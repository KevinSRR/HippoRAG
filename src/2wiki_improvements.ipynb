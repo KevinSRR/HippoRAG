{
 "cells": [
  {
   "cell_type": "code",
   "execution_count": 25,
   "id": "f963389f-b938-4393-9848-6cf19e3349e4",
   "metadata": {},
   "outputs": [],
   "source": [
    "import json\n",
    "import numpy as np"
   ]
  },
  {
   "cell_type": "code",
   "execution_count": 11,
   "id": "6cfffc04-0a79-4a52-8f0d-0d5e7b8bb81c",
   "metadata": {},
   "outputs": [],
   "source": [
    "musique_dpr = json.load(open('/research/nfs_su_809/workspace/shu.251/HippoRAG/output/ircot/ircot_results_musique_dpr_only_R_facebook_contriever_L_facebook_contriever_demo_1_E_gpt-3_5-turbo_doc_ensemble_0.9_step_1_top_8_ppr_damping_0.1_sim_thresh_0.8.json','r'))"
   ]
  },
  {
   "cell_type": "code",
   "execution_count": 14,
   "id": "1878235b-aab1-410b-b91d-fa481048c153",
   "metadata": {},
   "outputs": [],
   "source": [
    "wiki2_dpr = json.load(open('/research/nfs_su_809/workspace/shu.251/HippoRAG/output/ircot/ircot_results_2wikimultihopqa_dpr_only_R_facebook_contriever_L_facebook_contriever_demo_1_E_gpt-3_5-turbo_doc_ensemble_0.9_step_1_top_8_ppr_damping_0.1_sim_thresh_0.8.json','r'))"
   ]
  },
  {
   "cell_type": "code",
   "execution_count": 15,
   "id": "b2f06ea9-c900-40f6-88bb-a05a22e81a4b",
   "metadata": {},
   "outputs": [],
   "source": [
    "wiki2_hip = json.load(open('/research/nfs_su_809/workspace/shu.251/HippoRAG/output/ircot/ircot_results_2wikimultihopqa_hipporag_R_facebook_contriever_L_facebook_contriever_demo_1_E_gpt-3_5-turbo_no_ensemble_step_1_top_8_ppr_damping_0.1_sim_thresh_0.8.json','r'))"
   ]
  },
  {
   "cell_type": "code",
   "execution_count": 16,
   "id": "f11f6f1b-a891-4171-91e3-de8759620a76",
   "metadata": {},
   "outputs": [],
   "source": [
    "musique_hip = json.load(open('/research/nfs_su_809/workspace/shu.251/HippoRAG/output/ircot/ircot_results_musique_hipporag_R_facebook_contriever_L_facebook_contriever_demo_1_E_gpt-3_5-turbo_no_ensemble_step_1_top_8_ppr_damping_0.1_sim_thresh_0.8.json','r'))"
   ]
  },
  {
   "cell_type": "code",
   "execution_count": 68,
   "id": "f3359d71-85d6-4c67-ab59-a004e1235c30",
   "metadata": {},
   "outputs": [],
   "source": [
    "def get_second_supporting_doc_metric(docs,musique=True):\n",
    "\n",
    "    supp_doc_rank = []\n",
    "    \n",
    "    for example in docs:\n",
    "        \n",
    "        if musique:\n",
    "            supp_docs = set([d['title'] + '\\n' + d['paragraph_text'] for d in example['supporting_docs']])\n",
    "        else:\n",
    "            gold_passages = [item for item in example['supporting_facts']]\n",
    "            supp_docs = set([item[0] for item in gold_passages])\n",
    "\n",
    "        ranks = []\n",
    "        \n",
    "        retrieved_docs = example['retrieved']\n",
    "        \n",
    "        if not(musique):\n",
    "            retrieved_docs = [passage.split('\\n')[0].strip() for passage in retrieved_docs]\n",
    "\n",
    "        for i, ret in enumerate(retrieved_docs):\n",
    "            if ret in supp_docs:\n",
    "                supp_docs.remove(ret)\n",
    "                ranks.append(i)\n",
    "\n",
    "            if len(ranks) == 2:\n",
    "                break\n",
    "                \n",
    "        if len(ranks) == 1:\n",
    "            ranks.append(9)\n",
    "        # elif len(ranks) == 0:\n",
    "        #     ranks.append(10)\n",
    "        #     ranks.append(10)\n",
    "        if len(ranks) == 2:    \n",
    "            supp_doc_rank.append(ranks[1] - ranks[0])\n",
    "\n",
    "    return np.array(supp_doc_rank)"
   ]
  },
  {
   "cell_type": "code",
   "execution_count": 69,
   "id": "cec377f7-c70a-48e8-a7fe-9ef7a70f4a7e",
   "metadata": {},
   "outputs": [
    {
     "data": {
      "text/plain": [
       "5.683807439824945"
      ]
     },
     "execution_count": 69,
     "metadata": {},
     "output_type": "execute_result"
    }
   ],
   "source": [
    "get_second_supporting_doc_metric(musique_dpr).mean(axis=0)"
   ]
  },
  {
   "cell_type": "code",
   "execution_count": 70,
   "id": "376bb9bc-c61f-4687-b3fb-0e695c3f7e8c",
   "metadata": {},
   "outputs": [
    {
     "data": {
      "text/plain": [
       "5.456544502617801"
      ]
     },
     "execution_count": 70,
     "metadata": {},
     "output_type": "execute_result"
    }
   ],
   "source": [
    "get_second_supporting_doc_metric(wiki2_dpr, musique=False).mean(axis=0)"
   ]
  },
  {
   "cell_type": "code",
   "execution_count": 71,
   "id": "7fcc2cbe-2673-45ca-ba88-d2952f868675",
   "metadata": {},
   "outputs": [
    {
     "data": {
      "text/plain": [
       "5.6404682274247495"
      ]
     },
     "execution_count": 71,
     "metadata": {},
     "output_type": "execute_result"
    }
   ],
   "source": [
    "get_second_supporting_doc_metric(musique_hip).mean(axis=0)"
   ]
  },
  {
   "cell_type": "code",
   "execution_count": 72,
   "id": "ecc53644-9105-4ccc-908d-5bb54fdcfb73",
   "metadata": {},
   "outputs": [
    {
     "data": {
      "text/plain": [
       "2.1012145748987856"
      ]
     },
     "execution_count": 72,
     "metadata": {},
     "output_type": "execute_result"
    }
   ],
   "source": [
    "get_second_supporting_doc_metric(wiki2_hip, musique=False).mean(axis=0)"
   ]
  },
  {
   "cell_type": "code",
   "execution_count": 104,
   "id": "466000de-a61f-4683-94fe-c3763e114402",
   "metadata": {},
   "outputs": [],
   "source": [
    "def get_recall(docs):\n",
    "    recalls = []\n",
    "    all_recalls = []\n",
    "    \n",
    "    for doc in docs:\n",
    "        recalls.append(doc['recall'])\n",
    "        all_recalls.append(doc['all_recall'])\n",
    "\n",
    "    display(pd.DataFrame(recalls).agg(['mean']))\n",
    "    # display(pd.DataFrame(all_recalls).agg(['mean']))"
   ]
  },
  {
   "cell_type": "code",
   "execution_count": 105,
   "id": "749252cd-6d07-4806-93b7-a639c5d84182",
   "metadata": {},
   "outputs": [
    {
     "data": {
      "text/html": [
       "<div>\n",
       "<style scoped>\n",
       "    .dataframe tbody tr th:only-of-type {\n",
       "        vertical-align: middle;\n",
       "    }\n",
       "\n",
       "    .dataframe tbody tr th {\n",
       "        vertical-align: top;\n",
       "    }\n",
       "\n",
       "    .dataframe thead th {\n",
       "        text-align: right;\n",
       "    }\n",
       "</style>\n",
       "<table border=\"1\" class=\"dataframe\">\n",
       "  <thead>\n",
       "    <tr style=\"text-align: right;\">\n",
       "      <th></th>\n",
       "      <th>1</th>\n",
       "      <th>2</th>\n",
       "      <th>5</th>\n",
       "      <th>10</th>\n",
       "      <th>20</th>\n",
       "    </tr>\n",
       "  </thead>\n",
       "  <tbody>\n",
       "    <tr>\n",
       "      <th>mean</th>\n",
       "      <td>0.241577</td>\n",
       "      <td>0.348246</td>\n",
       "      <td>0.46625</td>\n",
       "      <td>0.525167</td>\n",
       "      <td>0.525167</td>\n",
       "    </tr>\n",
       "  </tbody>\n",
       "</table>\n",
       "</div>"
      ],
      "text/plain": [
       "             1         2        5        10        20\n",
       "mean  0.241577  0.348246  0.46625  0.525167  0.525167"
      ]
     },
     "metadata": {},
     "output_type": "display_data"
    }
   ],
   "source": [
    "get_recall(musique_dpr)"
   ]
  },
  {
   "cell_type": "code",
   "execution_count": 106,
   "id": "c226ee13-387c-492b-a73b-55624865d1f4",
   "metadata": {},
   "outputs": [
    {
     "name": "stdout",
     "output_type": "stream",
     "text": [
      "bridge_comparison\n"
     ]
    },
    {
     "data": {
      "text/html": [
       "<div>\n",
       "<style scoped>\n",
       "    .dataframe tbody tr th:only-of-type {\n",
       "        vertical-align: middle;\n",
       "    }\n",
       "\n",
       "    .dataframe tbody tr th {\n",
       "        vertical-align: top;\n",
       "    }\n",
       "\n",
       "    .dataframe thead th {\n",
       "        text-align: right;\n",
       "    }\n",
       "</style>\n",
       "<table border=\"1\" class=\"dataframe\">\n",
       "  <thead>\n",
       "    <tr style=\"text-align: right;\">\n",
       "      <th></th>\n",
       "      <th>1</th>\n",
       "      <th>2</th>\n",
       "      <th>5</th>\n",
       "      <th>10</th>\n",
       "      <th>20</th>\n",
       "    </tr>\n",
       "  </thead>\n",
       "  <tbody>\n",
       "    <tr>\n",
       "      <th>mean</th>\n",
       "      <td>0.179787</td>\n",
       "      <td>0.273404</td>\n",
       "      <td>0.358511</td>\n",
       "      <td>0.390426</td>\n",
       "      <td>0.390426</td>\n",
       "    </tr>\n",
       "  </tbody>\n",
       "</table>\n",
       "</div>"
      ],
      "text/plain": [
       "             1         2         5        10        20\n",
       "mean  0.179787  0.273404  0.358511  0.390426  0.390426"
      ]
     },
     "metadata": {},
     "output_type": "display_data"
    },
    {
     "data": {
      "text/html": [
       "<div>\n",
       "<style scoped>\n",
       "    .dataframe tbody tr th:only-of-type {\n",
       "        vertical-align: middle;\n",
       "    }\n",
       "\n",
       "    .dataframe tbody tr th {\n",
       "        vertical-align: top;\n",
       "    }\n",
       "\n",
       "    .dataframe thead th {\n",
       "        text-align: right;\n",
       "    }\n",
       "</style>\n",
       "<table border=\"1\" class=\"dataframe\">\n",
       "  <thead>\n",
       "    <tr style=\"text-align: right;\">\n",
       "      <th></th>\n",
       "      <th>1</th>\n",
       "      <th>2</th>\n",
       "      <th>5</th>\n",
       "      <th>10</th>\n",
       "      <th>20</th>\n",
       "    </tr>\n",
       "  </thead>\n",
       "  <tbody>\n",
       "    <tr>\n",
       "      <th>mean</th>\n",
       "      <td>0.247872</td>\n",
       "      <td>0.487234</td>\n",
       "      <td>0.898936</td>\n",
       "      <td>0.954255</td>\n",
       "      <td>0.954255</td>\n",
       "    </tr>\n",
       "  </tbody>\n",
       "</table>\n",
       "</div>"
      ],
      "text/plain": [
       "             1         2         5        10        20\n",
       "mean  0.247872  0.487234  0.898936  0.954255  0.954255"
      ]
     },
     "metadata": {},
     "output_type": "display_data"
    },
    {
     "name": "stdout",
     "output_type": "stream",
     "text": [
      "comparison\n"
     ]
    },
    {
     "data": {
      "text/html": [
       "<div>\n",
       "<style scoped>\n",
       "    .dataframe tbody tr th:only-of-type {\n",
       "        vertical-align: middle;\n",
       "    }\n",
       "\n",
       "    .dataframe tbody tr th {\n",
       "        vertical-align: top;\n",
       "    }\n",
       "\n",
       "    .dataframe thead th {\n",
       "        text-align: right;\n",
       "    }\n",
       "</style>\n",
       "<table border=\"1\" class=\"dataframe\">\n",
       "  <thead>\n",
       "    <tr style=\"text-align: right;\">\n",
       "      <th></th>\n",
       "      <th>1</th>\n",
       "      <th>2</th>\n",
       "      <th>5</th>\n",
       "      <th>10</th>\n",
       "      <th>20</th>\n",
       "    </tr>\n",
       "  </thead>\n",
       "  <tbody>\n",
       "    <tr>\n",
       "      <th>mean</th>\n",
       "      <td>0.428279</td>\n",
       "      <td>0.67623</td>\n",
       "      <td>0.838115</td>\n",
       "      <td>0.889344</td>\n",
       "      <td>0.889344</td>\n",
       "    </tr>\n",
       "  </tbody>\n",
       "</table>\n",
       "</div>"
      ],
      "text/plain": [
       "             1        2         5        10        20\n",
       "mean  0.428279  0.67623  0.838115  0.889344  0.889344"
      ]
     },
     "metadata": {},
     "output_type": "display_data"
    },
    {
     "data": {
      "text/html": [
       "<div>\n",
       "<style scoped>\n",
       "    .dataframe tbody tr th:only-of-type {\n",
       "        vertical-align: middle;\n",
       "    }\n",
       "\n",
       "    .dataframe tbody tr th {\n",
       "        vertical-align: top;\n",
       "    }\n",
       "\n",
       "    .dataframe thead th {\n",
       "        text-align: right;\n",
       "    }\n",
       "</style>\n",
       "<table border=\"1\" class=\"dataframe\">\n",
       "  <thead>\n",
       "    <tr style=\"text-align: right;\">\n",
       "      <th></th>\n",
       "      <th>1</th>\n",
       "      <th>2</th>\n",
       "      <th>5</th>\n",
       "      <th>10</th>\n",
       "      <th>20</th>\n",
       "    </tr>\n",
       "  </thead>\n",
       "  <tbody>\n",
       "    <tr>\n",
       "      <th>mean</th>\n",
       "      <td>0.493852</td>\n",
       "      <td>0.952869</td>\n",
       "      <td>0.983607</td>\n",
       "      <td>0.985656</td>\n",
       "      <td>0.985656</td>\n",
       "    </tr>\n",
       "  </tbody>\n",
       "</table>\n",
       "</div>"
      ],
      "text/plain": [
       "             1         2         5        10        20\n",
       "mean  0.493852  0.952869  0.983607  0.985656  0.985656"
      ]
     },
     "metadata": {},
     "output_type": "display_data"
    },
    {
     "name": "stdout",
     "output_type": "stream",
     "text": [
      "compositional\n"
     ]
    },
    {
     "data": {
      "text/html": [
       "<div>\n",
       "<style scoped>\n",
       "    .dataframe tbody tr th:only-of-type {\n",
       "        vertical-align: middle;\n",
       "    }\n",
       "\n",
       "    .dataframe tbody tr th {\n",
       "        vertical-align: top;\n",
       "    }\n",
       "\n",
       "    .dataframe thead th {\n",
       "        text-align: right;\n",
       "    }\n",
       "</style>\n",
       "<table border=\"1\" class=\"dataframe\">\n",
       "  <thead>\n",
       "    <tr style=\"text-align: right;\">\n",
       "      <th></th>\n",
       "      <th>1</th>\n",
       "      <th>2</th>\n",
       "      <th>5</th>\n",
       "      <th>10</th>\n",
       "      <th>20</th>\n",
       "    </tr>\n",
       "  </thead>\n",
       "  <tbody>\n",
       "    <tr>\n",
       "      <th>mean</th>\n",
       "      <td>0.360775</td>\n",
       "      <td>0.453995</td>\n",
       "      <td>0.539952</td>\n",
       "      <td>0.571429</td>\n",
       "      <td>0.571429</td>\n",
       "    </tr>\n",
       "  </tbody>\n",
       "</table>\n",
       "</div>"
      ],
      "text/plain": [
       "             1         2         5        10        20\n",
       "mean  0.360775  0.453995  0.539952  0.571429  0.571429"
      ]
     },
     "metadata": {},
     "output_type": "display_data"
    },
    {
     "data": {
      "text/html": [
       "<div>\n",
       "<style scoped>\n",
       "    .dataframe tbody tr th:only-of-type {\n",
       "        vertical-align: middle;\n",
       "    }\n",
       "\n",
       "    .dataframe tbody tr th {\n",
       "        vertical-align: top;\n",
       "    }\n",
       "\n",
       "    .dataframe thead th {\n",
       "        text-align: right;\n",
       "    }\n",
       "</style>\n",
       "<table border=\"1\" class=\"dataframe\">\n",
       "  <thead>\n",
       "    <tr style=\"text-align: right;\">\n",
       "      <th></th>\n",
       "      <th>1</th>\n",
       "      <th>2</th>\n",
       "      <th>5</th>\n",
       "      <th>10</th>\n",
       "      <th>20</th>\n",
       "    </tr>\n",
       "  </thead>\n",
       "  <tbody>\n",
       "    <tr>\n",
       "      <th>mean</th>\n",
       "      <td>0.456416</td>\n",
       "      <td>0.745763</td>\n",
       "      <td>0.864407</td>\n",
       "      <td>0.903148</td>\n",
       "      <td>0.903148</td>\n",
       "    </tr>\n",
       "  </tbody>\n",
       "</table>\n",
       "</div>"
      ],
      "text/plain": [
       "             1         2         5        10        20\n",
       "mean  0.456416  0.745763  0.864407  0.903148  0.903148"
      ]
     },
     "metadata": {},
     "output_type": "display_data"
    },
    {
     "name": "stdout",
     "output_type": "stream",
     "text": [
      "inference\n"
     ]
    },
    {
     "data": {
      "text/html": [
       "<div>\n",
       "<style scoped>\n",
       "    .dataframe tbody tr th:only-of-type {\n",
       "        vertical-align: middle;\n",
       "    }\n",
       "\n",
       "    .dataframe tbody tr th {\n",
       "        vertical-align: top;\n",
       "    }\n",
       "\n",
       "    .dataframe thead th {\n",
       "        text-align: right;\n",
       "    }\n",
       "</style>\n",
       "<table border=\"1\" class=\"dataframe\">\n",
       "  <thead>\n",
       "    <tr style=\"text-align: right;\">\n",
       "      <th></th>\n",
       "      <th>1</th>\n",
       "      <th>2</th>\n",
       "      <th>5</th>\n",
       "      <th>10</th>\n",
       "      <th>20</th>\n",
       "    </tr>\n",
       "  </thead>\n",
       "  <tbody>\n",
       "    <tr>\n",
       "      <th>mean</th>\n",
       "      <td>0.333333</td>\n",
       "      <td>0.453704</td>\n",
       "      <td>0.587963</td>\n",
       "      <td>0.652778</td>\n",
       "      <td>0.652778</td>\n",
       "    </tr>\n",
       "  </tbody>\n",
       "</table>\n",
       "</div>"
      ],
      "text/plain": [
       "             1         2         5        10        20\n",
       "mean  0.333333  0.453704  0.587963  0.652778  0.652778"
      ]
     },
     "metadata": {},
     "output_type": "display_data"
    },
    {
     "data": {
      "text/html": [
       "<div>\n",
       "<style scoped>\n",
       "    .dataframe tbody tr th:only-of-type {\n",
       "        vertical-align: middle;\n",
       "    }\n",
       "\n",
       "    .dataframe tbody tr th {\n",
       "        vertical-align: top;\n",
       "    }\n",
       "\n",
       "    .dataframe thead th {\n",
       "        text-align: right;\n",
       "    }\n",
       "</style>\n",
       "<table border=\"1\" class=\"dataframe\">\n",
       "  <thead>\n",
       "    <tr style=\"text-align: right;\">\n",
       "      <th></th>\n",
       "      <th>1</th>\n",
       "      <th>2</th>\n",
       "      <th>5</th>\n",
       "      <th>10</th>\n",
       "      <th>20</th>\n",
       "    </tr>\n",
       "  </thead>\n",
       "  <tbody>\n",
       "    <tr>\n",
       "      <th>mean</th>\n",
       "      <td>0.435185</td>\n",
       "      <td>0.601852</td>\n",
       "      <td>0.768519</td>\n",
       "      <td>0.856481</td>\n",
       "      <td>0.856481</td>\n",
       "    </tr>\n",
       "  </tbody>\n",
       "</table>\n",
       "</div>"
      ],
      "text/plain": [
       "             1         2         5        10        20\n",
       "mean  0.435185  0.601852  0.768519  0.856481  0.856481"
      ]
     },
     "metadata": {},
     "output_type": "display_data"
    }
   ],
   "source": [
    "for type in np.unique([d['type'] for d in wiki2_dpr]):\n",
    "    print(type)\n",
    "    get_recall([d for d in wiki2_dpr if d['type'] == type])\n",
    "    get_recall([d for d in wiki2_hip if d['type'] == type])"
   ]
  },
  {
   "cell_type": "code",
   "execution_count": null,
   "id": "c29aaa4f-4e09-4779-b5d6-02982971189d",
   "metadata": {},
   "outputs": [],
   "source": []
  }
 ],
 "metadata": {
  "kernelspec": {
   "display_name": "hipporag",
   "language": "python",
   "name": "hipporag"
  },
  "language_info": {
   "codemirror_mode": {
    "name": "ipython",
    "version": 3
   },
   "file_extension": ".py",
   "mimetype": "text/x-python",
   "name": "python",
   "nbconvert_exporter": "python",
   "pygments_lexer": "ipython3",
   "version": "3.9.19"
  }
 },
 "nbformat": 4,
 "nbformat_minor": 5
}
